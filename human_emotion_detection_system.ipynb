{
 "cells": [
  {
   "cell_type": "code",
   "execution_count": 1,
   "id": "0ab23d97",
   "metadata": {},
   "outputs": [],
   "source": [
    "import os\n",
    "import numpy as np\n",
    "import pandas as pd\n",
    "import librosa\n",
    "import sounddevice as sd\n",
    "import scipy.io.wavfile as wav\n",
    "from sklearn.ensemble import RandomForestClassifier\n",
    "from sklearn.model_selection import train_test_split\n",
    "from sklearn.metrics import accuracy_score\n",
    "import joblib\n",
    "from datetime import datetime\n",
    "import matplotlib.pyplot as plt\n",
    "\n"
   ]
  },
  {
   "cell_type": "code",
   "execution_count": 2,
   "id": "b7e9c3e6",
   "metadata": {},
   "outputs": [
    {
     "name": "stdout",
     "output_type": "stream",
     "text": [
      "Requirement already satisfied: sounddevice in c:\\users\\ravindra\\appdata\\local\\programs\\python\\python312\\lib\\site-packages (0.5.2)\n",
      "Requirement already satisfied: CFFI>=1.0 in c:\\users\\ravindra\\appdata\\local\\programs\\python\\python312\\lib\\site-packages (from sounddevice) (1.17.1)\n",
      "Requirement already satisfied: pycparser in c:\\users\\ravindra\\appdata\\local\\programs\\python\\python312\\lib\\site-packages (from CFFI>=1.0->sounddevice) (2.22)\n"
     ]
    },
    {
     "name": "stderr",
     "output_type": "stream",
     "text": [
      "\n",
      "[notice] A new release of pip is available: 25.0.1 -> 25.1.1\n",
      "[notice] To update, run: python.exe -m pip install --upgrade pip\n"
     ]
    }
   ],
   "source": [
    "!pip install sounddevice"
   ]
  },
  {
   "cell_type": "code",
   "execution_count": 3,
   "id": "f2078560",
   "metadata": {},
   "outputs": [
    {
     "name": "stderr",
     "output_type": "stream",
     "text": [
      "'apt-get' is not recognized as an internal or external command,\n",
      "operable program or batch file.\n",
      "'apt-get' is not recognized as an internal or external command,\n",
      "operable program or batch file.\n"
     ]
    }
   ],
   "source": [
    "# Install the PortAudio development library\n",
    "!apt-get update\n",
    "!apt-get install -y libportaudio2 portaudio19-dev\n"
   ]
  },
  {
   "cell_type": "code",
   "execution_count": 4,
   "id": "1ac97c4e",
   "metadata": {},
   "outputs": [],
   "source": [
    "EMOTIONS = {\n",
    "    '01': 'neutral', '02': 'calm', '03': 'happy', '04': 'sad',\n",
    "    '05': 'angry', '06': 'fearful', '07': 'disgust', '08': 'surprised'\n",
    "}"
   ]
  },
  {
   "cell_type": "code",
   "execution_count": 5,
   "id": "a0bf63c7",
   "metadata": {},
   "outputs": [],
   "source": [
    "def extract_features(file_path):\n",
    "    y, sr = librosa.load(file_path, duration=3, offset=0.5)\n",
    "    mfccs = np.mean(librosa.feature.mfcc(y=y, sr=sr, n_mfcc=40).T, axis=0)\n",
    "    chroma = np.mean(librosa.feature.chroma_stft(y=y, sr=sr).T, axis=0)\n",
    "    mel = np.mean(librosa.feature.melspectrogram(y=y, sr=sr).T, axis=0)\n",
    "    return np.hstack([mfccs, chroma, mel])\n"
   ]
  },
  {
   "cell_type": "code",
   "execution_count": 6,
   "id": "351fb41d",
   "metadata": {},
   "outputs": [],
   "source": [
    "def load_data(data_path):\n",
    "    X, y = [], []\n",
    "    for root, _, files in os.walk(data_path):\n",
    "        for file in files:\n",
    "            if file.endswith('.wav'):\n",
    "                file_path = os.path.join(root, file)\n",
    "                emotion_code = file.split('-')[2]\n",
    "                emotion = EMOTIONS.get(emotion_code)\n",
    "                features = extract_features(file_path)\n",
    "                X.append(features)\n",
    "                y.append(emotion)\n",
    "    return np.array(X), np.array(y)\n",
    "\n",
    "# Set your RAVDESS path\n",
    "data_path = r\"C:\\Users\\Ravindra\\Downloads\\ravdess (1)\"\n",
    "X, y = load_data(data_path)"
   ]
  },
  {
   "cell_type": "code",
   "execution_count": 7,
   "id": "06d6fa18",
   "metadata": {},
   "outputs": [
    {
     "name": "stdout",
     "output_type": "stream",
     "text": [
      "Accuracy: 0.9097222222222222\n"
     ]
    },
    {
     "data": {
      "text/plain": [
       "['emotion_model.pkl']"
      ]
     },
     "execution_count": 7,
     "metadata": {},
     "output_type": "execute_result"
    }
   ],
   "source": [
    "X_train, X_test, y_train, y_test = train_test_split(X, y, test_size=0.2, random_state=42)\n",
    "\n",
    "model = RandomForestClassifier()\n",
    "model.fit(X_train, y_train)\n",
    "y_pred = model.predict(X_test)\n",
    "\n",
    "print(\"Accuracy:\", accuracy_score(y_test, y_pred))\n",
    "\n",
    "# Save model\n",
    "joblib.dump(model, 'emotion_model.pkl')"
   ]
  },
  {
   "cell_type": "code",
   "execution_count": 2,
   "id": "e3271ea4",
   "metadata": {},
   "outputs": [
    {
     "ename": "NameError",
     "evalue": "name 'X' is not defined",
     "output_type": "error",
     "traceback": [
      "\u001b[31m---------------------------------------------------------------------------\u001b[39m",
      "\u001b[31mNameError\u001b[39m                                 Traceback (most recent call last)",
      "\u001b[36mCell\u001b[39m\u001b[36m \u001b[39m\u001b[32mIn[2]\u001b[39m\u001b[32m, line 1\u001b[39m\n\u001b[32m----> \u001b[39m\u001b[32m1\u001b[39m \u001b[38;5;28mprint\u001b[39m(\u001b[33mf\u001b[39m\u001b[33m\"\u001b[39m\u001b[33mNumber of samples loaded: \u001b[39m\u001b[38;5;132;01m{\u001b[39;00m\u001b[38;5;28mlen\u001b[39m(\u001b[43mX\u001b[49m)\u001b[38;5;132;01m}\u001b[39;00m\u001b[33m\"\u001b[39m)\n",
      "\u001b[31mNameError\u001b[39m: name 'X' is not defined"
     ]
    }
   ],
   "source": [
    "print(f\"Number of samples loaded: {len(X)}\")"
   ]
  },
  {
   "cell_type": "code",
   "execution_count": 1,
   "id": "31df0a43",
   "metadata": {},
   "outputs": [
    {
     "name": "stdout",
     "output_type": "stream",
     "text": [
      "Recording...\n"
     ]
    },
    {
     "ename": "NameError",
     "evalue": "name 'sd' is not defined",
     "output_type": "error",
     "traceback": [
      "\u001b[31m---------------------------------------------------------------------------\u001b[39m",
      "\u001b[31mNameError\u001b[39m                                 Traceback (most recent call last)",
      "\u001b[36mCell\u001b[39m\u001b[36m \u001b[39m\u001b[32mIn[1]\u001b[39m\u001b[32m, line 7\u001b[39m\n\u001b[32m      4\u001b[39m     sd.wait()\n\u001b[32m      5\u001b[39m     wav.write(filename, fs, audio)\n\u001b[32m----> \u001b[39m\u001b[32m7\u001b[39m \u001b[43mrecord_voice\u001b[49m\u001b[43m(\u001b[49m\u001b[43m)\u001b[49m\n\u001b[32m      9\u001b[39m \u001b[38;5;66;03m# Extract features and predict\u001b[39;00m\n\u001b[32m     10\u001b[39m features = extract_features(\u001b[33m'\u001b[39m\u001b[33mrecorded.wav\u001b[39m\u001b[33m'\u001b[39m).reshape(\u001b[32m1\u001b[39m, -\u001b[32m1\u001b[39m)\n",
      "\u001b[36mCell\u001b[39m\u001b[36m \u001b[39m\u001b[32mIn[1]\u001b[39m\u001b[32m, line 3\u001b[39m, in \u001b[36mrecord_voice\u001b[39m\u001b[34m(filename, duration, fs)\u001b[39m\n\u001b[32m      1\u001b[39m \u001b[38;5;28;01mdef\u001b[39;00m\u001b[38;5;250m \u001b[39m\u001b[34mrecord_voice\u001b[39m(filename=\u001b[33m'\u001b[39m\u001b[33mrecorded.wav\u001b[39m\u001b[33m'\u001b[39m, duration=\u001b[32m3\u001b[39m, fs=\u001b[32m44100\u001b[39m):\n\u001b[32m      2\u001b[39m     \u001b[38;5;28mprint\u001b[39m(\u001b[33m\"\u001b[39m\u001b[33mRecording...\u001b[39m\u001b[33m\"\u001b[39m)\n\u001b[32m----> \u001b[39m\u001b[32m3\u001b[39m     audio = \u001b[43msd\u001b[49m.rec(\u001b[38;5;28mint\u001b[39m(duration * fs), samplerate=fs, channels=\u001b[32m1\u001b[39m)\n\u001b[32m      4\u001b[39m     sd.wait()\n\u001b[32m      5\u001b[39m     wav.write(filename, fs, audio)\n",
      "\u001b[31mNameError\u001b[39m: name 'sd' is not defined"
     ]
    }
   ],
   "source": [
    "def record_voice(filename='recorded.wav', duration=3, fs=44100):\n",
    "    print(\"Recording...\")\n",
    "    audio = sd.rec(int(duration * fs), samplerate=fs, channels=1)\n",
    "    sd.wait()\n",
    "    wav.write(filename, fs, audio)\n",
    "\n",
    "record_voice()\n",
    "\n",
    "# Extract features and predict\n",
    "features = extract_features('recorded.wav').reshape(1, -1)\n",
    "model = joblib.load('emotion_model.pkl')\n",
    "predicted_emotion = model.predict(features)[0]\n",
    "print(f\"Predicted Emotion: {predicted_emotion}\")\n"
   ]
  },
  {
   "cell_type": "code",
   "execution_count": 10,
   "id": "97f31e90",
   "metadata": {},
   "outputs": [],
   "source": [
    "log_file = 'session_log.csv'\n",
    "log_entry = pd.DataFrame([[datetime.now(), predicted_emotion]], columns=[\"Timestamp\", \"Emotion\"])\n",
    "\n",
    "if not os.path.exists(log_file):\n",
    "    log_entry.to_csv(log_file, index=False)\n",
    "else:\n",
    "    log_entry.to_csv(log_file, mode='a', header=False, index=False)\n"
   ]
  },
  {
   "cell_type": "code",
   "execution_count": 11,
   "id": "f3032f4e",
   "metadata": {},
   "outputs": [
    {
     "data": {
      "image/png": "[encoded data removed]",
      "text/plain": [
       "<Figure size 1000x400 with 1 Axes>"
      ]
     },
     "metadata": {},
     "output_type": "display_data"
    }
   ],
   "source": [
    "import matplotlib.pyplot as plt\n",
    "\n",
    "# Load the log\n",
    "log_data = pd.read_csv('session_log.csv')\n",
    "log_data['Timestamp'] = pd.to_datetime(log_data['Timestamp'])\n",
    "\n",
    "# Set timestamp as index\n",
    "log_data.set_index('Timestamp', inplace=True)\n",
    "\n",
    "# Plot emotional trend\n",
    "plt.figure(figsize=(10, 4))\n",
    "plt.plot(log_data.index, log_data['Emotion'], marker='o', linestyle='-', color='purple')\n",
    "plt.title(\"Emotion Detection Trend Over Time\")\n",
    "plt.xlabel(\"Time\")\n",
    "plt.ylabel(\"Predicted Emotion\")\n",
    "plt.xticks(rotation=45)\n",
    "plt.grid(True)\n",
    "plt.tight_layout()\n",
    "plt.show()\n"
   ]
  },
  {
   "cell_type": "code",
   "execution_count": null,
   "id": "cf0c6c19",
   "metadata": {},
   "outputs": [],
   "source": []
  }
 ],
 "metadata": {
  "kernelspec": {
   "display_name": "Python 3",
   "language": "python",
   "name": "python3"
  },
  "language_info": {
   "codemirror_mode": {
    "name": "ipython",
    "version": 3
   },
   "file_extension": ".py",
   "mimetype": "text/x-python",
   "name": "python",
   "nbconvert_exporter": "python",
   "pygments_lexer": "ipython3",
   "version": "3.12.6"
  }
 },
 "nbformat": 4,
 "nbformat_minor": 5
}
